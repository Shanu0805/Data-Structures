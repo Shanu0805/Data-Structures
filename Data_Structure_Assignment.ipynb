{
  "cells": [
    {
      "cell_type": "markdown",
      "metadata": {
        "id": "8nLwhImZrmFy"
      },
      "source": [
        "Theory Questions\n",
        "\n"
      ]
    },
    {
      "cell_type": "markdown",
      "metadata": {
        "id": "t3FI3DYprmF6"
      },
      "source": [
        "1. **What are data structures, and why are they important?**\n",
        "    \n",
        "  - Data structures are a way of organizing and storing data so that they can be accessed and worked with efficiently. They define the relationship between the data, and the operations that can be performed on the data. There are many different types of data structures, each with its own strengths and weaknesses.\n",
        "\n",
        "\n",
        "2. **Explain the difference between mutable and immutable data types with examples.**    \n",
        "\n",
        "  - Mutable data types can be changed after they are created, while immutable data types cannot be changed after they are created.\n",
        "      Mutable data types include lists, dictionaries, and sets, while immutable data types include strings, tuples, and frozensets.\n",
        "      \n",
        "      **Example of mutable data type:**\n",
        "      \n",
        "      **List**\n",
        "\n",
        "        my_list = [1, 2, 3]\n",
        "        my_list[0] = 4\n",
        "        print(my_list)  # Output: [4, 2, 3]\n",
        "\n",
        "      **Example of immutable data type:**\n",
        "\n",
        "      **Tuple**\n",
        "\n",
        "        my_tuple = (1, 2, 3)\n",
        "        my_tuple[0] = 4\n",
        "        print(my_tuple)  # Output: TypeError: 'tuple' object does not support item assignment.\n",
        "            \n",
        "    In the example above, we can see that we can change the first element of the list (mutable data type), but we cannot change the first element of the tuple (immutable data type).\n",
        "    This is because lists are mutable, while tuples are immutable.\n",
        "\n",
        "\n",
        "3. **What are the main differences between lists and tuples in Python?**\n",
        "\n",
        "    - Lists are mutable, and tuples are immutable. This means that lists can be changed, and tuples cannot be changed.\n",
        "\n",
        "    - Lists are created using square brackets [], and tuples are created using parentheses ().\n",
        "\n",
        "    - Lists are faster than tuples.\n",
        "\n",
        "    - Tuples are used to protect the data, and lists are used to store data.\n",
        "\n",
        "    - Tuples are used for heterogeneous data types, and lists are used for homogeneous data types.\n",
        "\n",
        "    - Tuples are used for read-only data, and lists are used for write data.\n",
        "\n",
        "    - Tuples are used for smaller collections of data, and lists are used for larger collections of data.\n",
        "\n",
        "4.  **Describe how dictionaries store data.**\n",
        "    \n",
        "  - Dictionaries store data in key-value pairs. Each key is separated from its value by a colon (:), the items are separated by commas, and the whole thing is enclosed in curly braces. An empty dictionary without any items is written with just two curly braces, like this: {}. Keys are unique within a dictionary while values may not be. The values of a dictionary can be of any type, but the keys must be of an immutable data type such as strings, numbers, or tuples.\n",
        "\n",
        "    **Example**\n",
        "\n",
        "        my_dict = {'name': 'Jack', 'age': 26}\n",
        "        print(my_dict['name'])\n",
        "        #Output\n",
        "        Jack\n",
        "\n",
        "5.  **Why might you use a set instead of a list in Python?**\n",
        "     \n",
        "     - Sets are faster than lists for checking if an element is in the set.\n",
        "     - Sets are faster than lists for removing an element from the set.\n",
        "     - Sets are faster than lists for adding an element to the set.\n",
        "     - Sets are faster than lists for iterating over the elements in the set.\n",
        "     - Sets are faster than lists for finding the intersection of two sets.\n",
        "     - Sets are faster than lists for finding the union of two sets.\n",
        "     - Sets are faster than lists for finding the difference of two sets.\n",
        "     - Sets are faster than lists for finding the symmetric difference of two sets.\n",
        "\n",
        "\n",
        "6. **What is a string in Python, and how is it different from a list?**\n",
        "\n",
        "  - A string in Python is a sequence of characters used to represent text. It's an immutable data type, meaning once a string is created, it cannot be changed or modified. A list, on the other hand, is a mutable sequence of elements, which means you can change, add, or remove items after the list has been created.\n",
        "\n",
        "7. **How do tuples ensure data integrity in Python?**\n",
        "\n",
        "  - Tuples in Python help ensure data integrity by being immutable. This immutability prevents modification of the data after a tuple is created, which is useful when you want to protect the data from accidental or intentional changes.\n",
        "\n",
        "8. **What is a hash table, and how does it relate to dictionaries in Python?**\n",
        "\n",
        " - A hash table is a data structure that stores key-value pairs, allowing for efficient data retrieval, insertion, and deletion. It achieves this by using a hash function to compute an index into an array, where the value corresponding to a key can be stored. This enables constant-time (O(1)) average case operations like lookup, insert, and delete.\n",
        "\n",
        "    **Key Concepts of Hash Tables**\n",
        "\n",
        "    **Hash Function:** A hash function takes a key (e.g., a string or number) and returns an integer (called a hash value or hash code) that determines the index at which the key-value pair should be stored in the underlying array.\n",
        "\n",
        "    ***hash_value = hash(key)*** # Returns a unique integer for the given key\n",
        "\n",
        "9. **Can lists contain different data types in Python?**\n",
        "\n",
        "    - Yes, lists in Python can contain elements of different data types. Python lists are highly flexible and allow you to store any kind of object, including strings, integers, floats, booleans, and even other lists or custom objects.\n",
        "\n",
        "    **Example :-**\n",
        "\n",
        "      **my_list = [\"hello\", 42, 3.14, True, [1, 2, 3]]**\n",
        "\n",
        "      **print(my_list)**\n",
        "\n",
        "      **Output**\n",
        "\n",
        "      **['hello', 42, 3.14, True, [1, 2, 3]]**\n",
        "\n",
        "10. **Explain why strings are immutable in Python.**\n",
        " - Strings in Python are immutable, meaning that once a string is created, it cannot be changed or modified. This immutability is a fundamental design choice in Python for several reasons, including performance optimization, memory efficiency, and ensuring data integrity.\n",
        "\n",
        "11. **What advantages do dictionaries offer over lists for certain tasks?**\n",
        "- Dictionaries offer several advantages over lists for certain tasks due to their key-value structure and optimized lookup performance. Here are some key advantages:\n",
        "\n",
        "  - **Fast Lookups** – Dictionary lookups have an average time complexity of O(1) (constant time) due to hash table implementation, whereas searching in a list takes O(n) (linear time).\n",
        "\n",
        "  - **Key-Based Access** – Dictionaries allow direct access to values using keys, making data retrieval more intuitive and efficient than searching through a list.\n",
        "\n",
        "  - **No Need for Indexing** – Unlike lists, where you need to remember the index of an element, dictionaries use meaningful keys, making data organization clearer.\n",
        "\n",
        "12. **Describe a scenario where using a tuple would be preferable over a list.**\n",
        "- A tuple would be preferable over a list in scenarios where immutability, performance, or data integrity are important.\n",
        "\n",
        "    **Scenario: GPS Coordinates in a Mapping Application**\n",
        "      Imagine you're developing a mapping application that needs to store the latitude and longitude of various locations.\n",
        "\n",
        "    *Why Use a Tuple Instead of a List?*\n",
        "  - **Immutability** – GPS coordinates should not change once assigned to a location. Tuples ensure that the data remains unchanged, preventing accidental modifications.\n",
        "\n",
        "  - **Performance** – Tuples are more memory-efficient and slightly faster than lists for fixed data, making them ideal for storing many coordinates.\n",
        "\n",
        "  - **Hashability** – Tuples can be used as dictionary keys or stored in a set, which is useful when tracking unique locations. Lists, being mutable, cannot be used in this way.\n",
        "\n",
        "  ***For Example:-***\n",
        "  - **location_data** = {\n",
        "\n",
        "    **(40.7128, -74.0060): \"New Delhi\",**\n",
        "\n",
        "    **(34.0522, -118.2437): \"Uttar Pradesh\",**\n",
        "\n",
        "    **(51.5074, -0.1278): \"Himachal Pradesh**\n",
        "\n",
        "        }\n",
        "\n",
        "13. **How do sets handle duplicate values in Python?**\n",
        "- In Python, sets automatically remove duplicate values because they are unordered collections of unique elements. When you add duplicate values to a set, only one instance of each unique element is stored.\n",
        "\n",
        "  **For Example:-**\n",
        "\n",
        "  **numbers** = {1, 2, 3, 3, 4, 4, 5}\n",
        "\n",
        "  **print(numbers)**  # **Output: {1, 2, 3, 4, 5}**\n",
        "\n",
        "14. **How does the “in” keyword work differently for lists and dictionaries?**\n",
        "- The ***in*** keyword works differently for lists and dictionaries in Python because of how these data structures store and retrieve data.\n",
        "\n",
        "   1. **in** **with Lists (Linear Search)**\n",
        "\n",
        "     - When used with a list, the in keyword checks if a value exists by iterating through each element in the list. This takes O(n) time complexity in the worst case.\n",
        "\n",
        "     **For Example: -**\n",
        "\n",
        "        my_list = [10, 20, 30, 40]\n",
        "        print(20 in my_list)  # Output: True\n",
        "        print(50 in my_list)  # Output: False\n",
        "\n",
        "  2.  **in** **with Dictionaries (Key Lookup in Hash Table)**\n",
        "  \n",
        "      - When used with a dictionary, in checks for the presence of a key, NOT a value. This lookup is much faster—on average, it takes O(1) time due to the underlying hash table structure.\n",
        "\n",
        "      **For Example: -**\n",
        "      \n",
        "        **my_dict** = {'name': 'Alice', 'age': 25, 'city': 'New York'}\n",
        "\n",
        "        **print('age' in my_dict)**     # Output: True (checks keys)\n",
        "\n",
        "        **print('Alice' in my_dict)**   # Output: False (does NOT check values)\n",
        "\n",
        "15. **Can you modify the elements of a tuple? Explain why or why not?**\n",
        "- No, you cannot modify the elements of a tuple in Python because tuples are immutable. This means that once a tuple is created, its elements cannot be changed, added, or removed.\n",
        "\n",
        "    **Why Are Tuples Immutable?**\n",
        "\n",
        "    - **Memory Efficiency** – Tuples use less memory compared to lists, making them faster for certain operations.\n",
        "\n",
        "    - **Hashability** – Since tuples do not change, they can be used as keys in dictionaries or stored in sets.\n",
        "\n",
        "    - **Data Integrity** – Immutability ensures that the data remains consistent, preventing accidental modifications.\n",
        "\n",
        "16. **What is a nested dictionary, and give an example of its use case?**\n",
        "- A nested dictionary is a dictionary inside another dictionary. It allows you to store and organize hierarchical or structured data efficiently.\n",
        "\n",
        "  **Use Case: Managing Employee Records**\n",
        "\n",
        "    - A company might use a nested dictionary to store information about employees, including their name, position, and salary.\n",
        "\n",
        "    **For Example: -**\n",
        "\n",
        "      employees = {\n",
        "\n",
        "        \"E001\": {\n",
        "        \"name\": \"Shanu Gupta\",\n",
        "        \"position\": \"Software Engineer\",\n",
        "        \"salary\": 85000\n",
        "        },\n",
        "        \"E002\": {\n",
        "        \"name\": \"Dev Chauhan\",\n",
        "        \"position\": \"Data Analyst\",\n",
        "        \"salary\": 75000\n",
        "        },\n",
        "        \"E003\": {\n",
        "        \"name\": \"Sachin Yaduvanshi\",\n",
        "        \"position\": \"Project Manager\",\n",
        "        \"salary\": 95000\n",
        "        }\n",
        "      }\n",
        "\n",
        "  **Accessing Dev Chauhan position**\n",
        "\n",
        "    **print**(employees[\"E002\"][\"position\"])  **# Output: Data Analyst**\n",
        "\n",
        "  **Updating Shanu Gupta salary**\n",
        "\n",
        "    **employees**[\"E001\"][\"salary\"] = 90000\n",
        "\n",
        "    **print**(employees[\"E001\"][\"salary\"])  **# Output: 90000**\n",
        "\n",
        "17. **Describe the time complexity of accessing elements in a dictionary.**\n",
        "- In Python, dictionaries are implemented as hash tables, which provide fast key-based lookups. The time complexity of accessing elements in a dictionary depends on whether we are dealing with the average case or the worst case.\n",
        "\n",
        "18. **In what situations are lists preferred over dictionaries?**\n",
        "- Although dictionaries are powerful for key-value mappings, lists are better in certain scenarios due to their ordered structure, simplicity, and sequential nature.\n",
        "\n",
        "    1. **Maintaining Order and Sequential Access**\n",
        "    \n",
        "        - Lists preserve order (since Python 3.7+), making them ideal when data order matters.\n",
        "\n",
        "          **Example:** Storing a sequence of tasks to execute in order. \n",
        "\n",
        "          **tasks** = [\"Wake up\", \"Brush teeth\", \"Go to work\"]\n",
        "\n",
        "          **print**(tasks[0])  # Output: \"Wake up\"\n",
        "\n",
        "19. **Why are dictionaries considered unordered, and how does that affect data retrieval?**\n",
        "- In Python, dictionaries are considered unordered because they do not guarantee any specific order for the key-value pairs. This is a result of how dictionaries are implemented using hash tables.\n",
        "\n",
        "  **Key Points About Unordered Dictionaries:**\n",
        "\n",
        "    - **Hashing Mechanism:** When you insert items into a dictionary, Python uses a hash function to determine where each key-value pair should be stored in memory. The position of the key-value pairs is based on the hash value, not the order in which they were inserted.\n",
        "\n",
        "  **How Does This Affect Data Retrieval?**\n",
        "\n",
        "    The unordered nature of dictionaries does not impact how data is retrieved based on keys because:\n",
        "\n",
        "     - **Fast Key Lookup:** The primary benefit of a dictionary is that it allows fast key-based access with O(1) average time complexity due to the hashing mechanism. This means, even though the dictionary is unordered, you can access values quickly by key.\n",
        "\n",
        "     - **Order-Insensitive:** When retrieving values from a dictionary, you do not need to worry about the order of the items. You simply look up the key to get its corresponding value.\n",
        "\n",
        "     **For example:**\n",
        "\n",
        "      my_dict = {\"a\": 1, \"b\": 2, \"c\": 3}\n",
        "      print(my_dict[\"b\"])  # Output: 2 (Order does not matter)\n",
        "\n",
        "\n",
        "20. **Explain the difference between a list and a dictionary in terms of data retrieval.**\n",
        "- The main difference between lists and dictionaries in Python when it comes to data retrieval lies in the type of access and the underlying structure:\n",
        "\n",
        "  1.  **List: Indexed Access**\n",
        "      - **Data Structure:** Lists are ordered collections of elements, indexed by their position (starting from 0).\n",
        "\n",
        "      - **Access Method:** To retrieve an element, you use an index that specifies the position of the item in the list.\n",
        "\n",
        "      - **Time Complexity:** Accessing an element by index in a list is O(1) (constant time), meaning it is very fast for direct access.\n",
        "\n",
        "      **For Example**\n",
        "\n",
        "        **my_list** = [10, 20, 30, 40]\n",
        "\n",
        "        **print(my_list[2])**  # Output: 30\n",
        "\n",
        "  2. **Dictionary: Key-Based Access**\n",
        "      - **Data Structure:** Dictionaries are unordered collections of key-value pairs. Each element in the dictionary is a pair consisting of a key and its associated value.\n",
        "\n",
        "      - **Access Method:** To retrieve a value from a dictionary, you use the key.\n",
        "\n",
        "      - **Time Complexity:** Accessing an element by key in a dictionary is O(1) (average case), meaning it is fast due to hash-based lookups.\n",
        "\n",
        "      **For Example**\n",
        "      \n",
        "        **my_dict** = {\"name\": \"Alice\", \"age\": 25, \"city\": \"New York\"}\n",
        "\n",
        "        **print(my_dict[\"age\"])**  # Output: 25"
      ]
    },
    {
      "cell_type": "markdown",
      "metadata": {
        "id": "yTGOdagdrmF9"
      },
      "source": [
        "# Practical Question\n"
      ]
    },
    {
      "cell_type": "code",
      "execution_count": null,
      "metadata": {
        "id": "LV3YWZwtrmF_",
        "outputId": "13ee3a94-11ad-44d8-b737-adbed78400d8"
      },
      "outputs": [
        {
          "name": "stdout",
          "output_type": "stream",
          "text": [
            "Shanu Gupta\n"
          ]
        }
      ],
      "source": [
        "# 1. Write a code to create a string with your name and print it.\n",
        "name = \"Shanu Gupta\"\n",
        "print(name)"
      ]
    },
    {
      "cell_type": "code",
      "execution_count": null,
      "metadata": {
        "id": "55DimDtYrmGD",
        "outputId": "79b6fb86-470b-45ac-8600-72487f9be506"
      },
      "outputs": [
        {
          "name": "stdout",
          "output_type": "stream",
          "text": [
            "11\n"
          ]
        }
      ],
      "source": [
        "# 2.Write a code to find the length of the string \"Hello World\".\n",
        "string = \"Hello World\"\n",
        "print(len(string))"
      ]
    },
    {
      "cell_type": "code",
      "execution_count": null,
      "metadata": {
        "id": "5tNh3PYJrmGF",
        "outputId": "da175b3f-0e75-42d0-bfe8-cca9f5ddac86"
      },
      "outputs": [
        {
          "name": "stdout",
          "output_type": "stream",
          "text": [
            "Pyt\n"
          ]
        }
      ],
      "source": [
        "# 3.Write a code to slice the first 3 characters from the string \"Python Programming\".\n",
        "string = \"Python Programming\"\n",
        "print(string[:3])"
      ]
    },
    {
      "cell_type": "code",
      "execution_count": null,
      "metadata": {
        "id": "iikRX7dPrmGH",
        "outputId": "b0332160-766e-4ad3-a84b-fcd97617f6f7"
      },
      "outputs": [
        {
          "name": "stdout",
          "output_type": "stream",
          "text": [
            "HELLO\n"
          ]
        }
      ],
      "source": [
        "# 4. Write a code to convert the string \"hello\" to uppercase.\n",
        "string = \"hello\"\n",
        "print(string.upper())"
      ]
    },
    {
      "cell_type": "code",
      "execution_count": null,
      "metadata": {
        "id": "g9qqpvrfrmGI",
        "outputId": "c87e811e-2a22-415c-c9a3-0f39cb2ef488"
      },
      "outputs": [
        {
          "name": "stdout",
          "output_type": "stream",
          "text": [
            "I like orange\n"
          ]
        }
      ],
      "source": [
        "# 5. Write a code to replace the word \"apple\" with \"orange\" in the string \"I like apple\".\n",
        "string = \"I like apple\"\n",
        "print(string.replace(\"apple\", \"orange\"))"
      ]
    },
    {
      "cell_type": "code",
      "execution_count": null,
      "metadata": {
        "id": "L4hVM3v0rmGJ",
        "outputId": "c540237f-c639-4655-88d8-c4ccb43a87a7"
      },
      "outputs": [
        {
          "name": "stdout",
          "output_type": "stream",
          "text": [
            "[1, 2, 3, 4, 5]\n"
          ]
        }
      ],
      "source": [
        "# 6. Write a code to create a list with numbers 1 to 5 and print it.\n",
        "numbers = [1, 2, 3, 4, 5]\n",
        "print(numbers)"
      ]
    },
    {
      "cell_type": "code",
      "execution_count": null,
      "metadata": {
        "id": "iMpFKH4PrmGL",
        "outputId": "ea6a2040-2f96-4e21-8866-d8119556b478"
      },
      "outputs": [
        {
          "name": "stdout",
          "output_type": "stream",
          "text": [
            "[1, 2, 3, 4, 10]\n"
          ]
        }
      ],
      "source": [
        "# 7. Write a code to append the number 10 to the list [1, 2, 3, 4].\n",
        "numbers = [1, 2, 3, 4]\n",
        "numbers.append(10)\n",
        "print(numbers)"
      ]
    },
    {
      "cell_type": "code",
      "execution_count": null,
      "metadata": {
        "id": "VjWdHjhRrmGM",
        "outputId": "7f096aa3-82b6-4416-f720-955959fa8433"
      },
      "outputs": [
        {
          "name": "stdout",
          "output_type": "stream",
          "text": [
            "[1, 2, 4, 5]\n"
          ]
        }
      ],
      "source": [
        "# 8.Write a code to remove the number 3 from the list [1, 2, 3, 4, 5].\n",
        "numbers = [1, 2, 3, 4, 5]\n",
        "numbers.remove(3)\n",
        "print(numbers)"
      ]
    },
    {
      "cell_type": "code",
      "execution_count": null,
      "metadata": {
        "id": "8VBXzzIxrmGN",
        "outputId": "94d046b9-c44d-499e-f07e-a7afe5b454ba"
      },
      "outputs": [
        {
          "name": "stdout",
          "output_type": "stream",
          "text": [
            "b\n"
          ]
        }
      ],
      "source": [
        "# 9. Write a code to access the second element in the list ['a', 'b', 'c', 'd'].\n",
        "letters = ['a', 'b', 'c', 'd']\n",
        "print(letters[1])"
      ]
    },
    {
      "cell_type": "code",
      "execution_count": null,
      "metadata": {
        "id": "T1iatsQOrmGO",
        "outputId": "63e23f52-4644-4351-ab2c-b5523c5a9c4d"
      },
      "outputs": [
        {
          "name": "stdout",
          "output_type": "stream",
          "text": [
            "[50, 40, 30, 20, 10]\n"
          ]
        }
      ],
      "source": [
        "# 10. Write a code to reverse the list [10, 20, 30, 40, 50].\n",
        "numbers = [10, 20, 30, 40, 50]\n",
        "numbers.reverse()\n",
        "print(numbers)"
      ]
    },
    {
      "cell_type": "code",
      "execution_count": null,
      "metadata": {
        "id": "O5rXw6LCrmGP",
        "outputId": "d1e8216c-a670-4e75-e1f1-d1a473cbaf93"
      },
      "outputs": [
        {
          "name": "stdout",
          "output_type": "stream",
          "text": [
            "(100, 200, 300)\n"
          ]
        }
      ],
      "source": [
        "# 11. Write a code to create a tuple with the elements 100, 200, 300 and print it.\n",
        "tuple = (100, 200, 300)\n",
        "print(tuple)"
      ]
    },
    {
      "cell_type": "code",
      "execution_count": null,
      "metadata": {
        "id": "Y_CXn2nqrmGP",
        "outputId": "5e05d42a-3509-4f77-af51-d755e40fc437"
      },
      "outputs": [
        {
          "name": "stdout",
          "output_type": "stream",
          "text": [
            "blue\n"
          ]
        }
      ],
      "source": [
        "# 12.  Write a code to access the second-to-last element of the tuple ('red', 'green', 'blue', 'yellow').\n",
        "colors = ('red', 'green', 'blue', 'yellow')\n",
        "print(colors[-2])"
      ]
    },
    {
      "cell_type": "code",
      "execution_count": null,
      "metadata": {
        "id": "kHdwpD25rmGQ",
        "outputId": "aaab03f8-0de9-40cb-87bd-9389f5128f4a"
      },
      "outputs": [
        {
          "name": "stdout",
          "output_type": "stream",
          "text": [
            "5\n"
          ]
        }
      ],
      "source": [
        "# 13. Write a code to find the minimum number in the tuple (10, 20, 5, 15).\n",
        "numbers = (10, 20, 5, 15)\n",
        "print(min(numbers))"
      ]
    },
    {
      "cell_type": "code",
      "execution_count": null,
      "metadata": {
        "id": "Rub2KU0wrmGR",
        "outputId": "4e419f67-92a6-4e23-b8e0-993bcde24c47"
      },
      "outputs": [
        {
          "name": "stdout",
          "output_type": "stream",
          "text": [
            "1\n"
          ]
        }
      ],
      "source": [
        "# 14. Write a code to find the index of the element \"cat\" in the tuple ('dog', 'cat', 'rabbit').\n",
        "animals = ('dog', 'cat', 'rabbit')\n",
        "print(animals.index('cat'))"
      ]
    },
    {
      "cell_type": "code",
      "execution_count": null,
      "metadata": {
        "id": "WWRabiNQrmGR",
        "outputId": "ae5a79c1-49e8-4bfc-d5a3-901dc1096bcf"
      },
      "outputs": [
        {
          "name": "stdout",
          "output_type": "stream",
          "text": [
            "False\n"
          ]
        }
      ],
      "source": [
        "# 15. Write a code to create a tuple containing three different fruits and check if \"kiwi\" is in it.\n",
        "fruits = ('apple', 'banana', 'orange')\n",
        "print(\"kiwi\" in fruits)"
      ]
    },
    {
      "cell_type": "code",
      "execution_count": null,
      "metadata": {
        "id": "SY4JLaerrmGS",
        "outputId": "aaae54e0-36a2-488a-9c1f-1464f8e42116"
      },
      "outputs": [
        {
          "name": "stdout",
          "output_type": "stream",
          "text": [
            "{'a', 'c', 'b'}\n"
          ]
        }
      ],
      "source": [
        "# 16. Write a code to create a set with the elements 'a', 'b', 'c' and print it.\n",
        "set = {'a', 'b', 'c'}\n",
        "print(set)"
      ]
    },
    {
      "cell_type": "code",
      "execution_count": null,
      "metadata": {
        "id": "qt-Un1J1rmGS",
        "outputId": "92e67007-1955-4a4e-c106-14ebe1e7aaa1"
      },
      "outputs": [
        {
          "name": "stdout",
          "output_type": "stream",
          "text": [
            "set()\n"
          ]
        }
      ],
      "source": [
        "# 17. Write a code to clear all elements from the set {1, 2, 3, 4, 5}.\n",
        "set = {1, 2, 3, 4, 5}\n",
        "set.clear()\n",
        "print(set)"
      ]
    },
    {
      "cell_type": "code",
      "execution_count": null,
      "metadata": {
        "id": "wHv3QeknrmGT",
        "outputId": "2e0511b1-445c-406c-dbad-72b7493c3e33"
      },
      "outputs": [
        {
          "name": "stdout",
          "output_type": "stream",
          "text": [
            "{1, 2, 3}\n"
          ]
        }
      ],
      "source": [
        "# 18. Write a code to remove the element 4 from the set {1, 2, 3, 4}.\n",
        "set = {1, 2, 3, 4}\n",
        "set.remove(4)\n",
        "print(set)"
      ]
    },
    {
      "cell_type": "code",
      "execution_count": null,
      "metadata": {
        "id": "6u7NqYlmrmGV",
        "outputId": "7e298a01-32ba-4768-9b66-8c75d18b766a"
      },
      "outputs": [
        {
          "name": "stdout",
          "output_type": "stream",
          "text": [
            "{1, 2, 3, 4, 5}\n"
          ]
        }
      ],
      "source": [
        "# 19. Write a code to find the union of two sets {1, 2, 3} and {3, 4, 5}.\n",
        "set1 = {1, 2, 3}\n",
        "set2 = {3, 4, 5}\n",
        "print(set1.union(set2))"
      ]
    },
    {
      "cell_type": "code",
      "execution_count": null,
      "metadata": {
        "id": "kq2SJ4NFrmGW",
        "outputId": "e50ecf5d-4af3-4f8b-f0f8-bbf2f884ca85"
      },
      "outputs": [
        {
          "name": "stdout",
          "output_type": "stream",
          "text": [
            "{2, 3}\n"
          ]
        }
      ],
      "source": [
        "# 20. Write a code to find the intersection of two sets {1, 2, 3} and {2, 3, 4}.\n",
        "set1 = {1, 2, 3}\n",
        "set2 = {2, 3, 4}\n",
        "print(set1.intersection(set2))"
      ]
    },
    {
      "cell_type": "code",
      "execution_count": null,
      "metadata": {
        "id": "WFjlM0DsrmGX",
        "outputId": "494e47ed-2580-4725-a96c-47ba56b4be57"
      },
      "outputs": [
        {
          "name": "stdout",
          "output_type": "stream",
          "text": [
            "{'Name': 'Shanu Gupta', 'Age': 22, 'City': 'New Delhi'}\n"
          ]
        }
      ],
      "source": [
        "# 21.  Write a code to create a dictionary with the keys \"name\", \"age\", and \"city\", and print it.\n",
        "dictionary = {\"Name\": \"Shanu Gupta\", \"Age\": 22, \"City\": \"New Delhi\"}\n",
        "print(dictionary)"
      ]
    },
    {
      "cell_type": "code",
      "execution_count": null,
      "metadata": {
        "id": "IcfrHE0TrmGX",
        "outputId": "f03ecf81-f6b6-4a36-bf43-cfa5184d5510"
      },
      "outputs": [
        {
          "name": "stdout",
          "output_type": "stream",
          "text": [
            "{'name': 'John', 'age': 25, 'country': 'USA'}\n"
          ]
        }
      ],
      "source": [
        "# 22. Write a code to add a new key-value pair \"country\": \"USA\" to the dictionary {'name': 'John', 'age': 25}.\n",
        "dictionary = {'name': 'John', 'age': 25}\n",
        "dictionary['country'] = 'USA'\n",
        "print(dictionary)"
      ]
    },
    {
      "cell_type": "code",
      "execution_count": null,
      "metadata": {
        "id": "cF251QfMrmGY",
        "outputId": "ce1b1b3b-db4c-4082-f005-443f79371bcd"
      },
      "outputs": [
        {
          "name": "stdout",
          "output_type": "stream",
          "text": [
            "Alice\n"
          ]
        }
      ],
      "source": [
        "# 23. Write a code to access the value associated with the key \"name\" in the dictionary {'name': 'Alice', 'age': 30}.\n",
        "dictionary = {'name': 'Alice', 'age': 30}\n",
        "print(dictionary['name'])"
      ]
    },
    {
      "cell_type": "code",
      "execution_count": null,
      "metadata": {
        "id": "4SoSl5j0rmGY",
        "outputId": "fde909f0-128e-4efa-99f8-28a8e09623fa"
      },
      "outputs": [
        {
          "name": "stdout",
          "output_type": "stream",
          "text": [
            "{'name': 'Bob', 'city': 'New York'}\n"
          ]
        }
      ],
      "source": [
        "# 24.  Write a code to remove the key \"age\" from the dictionary {'name': 'Bob', 'age': 22, 'city': 'New York'}.\n",
        "dictionary = {'name': 'Bob', 'age': 22, 'city': 'New York'}\n",
        "dictionary.pop('age')\n",
        "print(dictionary)"
      ]
    },
    {
      "cell_type": "code",
      "execution_count": null,
      "metadata": {
        "id": "uB7bGhLzrmGZ",
        "outputId": "ac030eae-a9d0-4bf4-c52c-f97e01e8c863"
      },
      "outputs": [
        {
          "name": "stdout",
          "output_type": "stream",
          "text": [
            "True\n"
          ]
        }
      ],
      "source": [
        "# 25. Write a code to check if the key \"city\" exists in the dictionary {'name': 'Alice', 'city': 'Paris'}.\n",
        "dictionary = {'name': 'Alice', 'city': 'Paris'}\n",
        "print(\"city\" in dictionary)"
      ]
    },
    {
      "cell_type": "code",
      "execution_count": null,
      "metadata": {
        "id": "V1REQO1nrmGZ",
        "outputId": "889ed58a-43a8-4387-e350-c348ebc5aedd"
      },
      "outputs": [
        {
          "name": "stdout",
          "output_type": "stream",
          "text": [
            "[1, 2, 3]\n",
            "(4, 5, 6)\n",
            "{'Name': 'Shanu', 'Age': 22}\n"
          ]
        }
      ],
      "source": [
        "# 26. Write a code to create a list, a tuple, and a dictionary, and print them all.\n",
        "list = [1, 2, 3]\n",
        "tuple = (4, 5, 6)\n",
        "dictionary = {\"Name\": \"Shanu\", \"Age\": 22}\n",
        "print(list)\n",
        "print(tuple)\n",
        "print(dictionary)"
      ]
    },
    {
      "cell_type": "code",
      "execution_count": null,
      "metadata": {
        "id": "nSQoJsAYrmGZ",
        "outputId": "d14b8e83-ceb3-4a43-ba4b-3de958ecf87a"
      },
      "outputs": [
        {
          "name": "stdout",
          "output_type": "stream",
          "text": [
            "[2, 11, 29, 83, 85]\n"
          ]
        }
      ],
      "source": [
        "# 27. Write a code to create a list of 5 random numbers between 1 and 100, sort it in ascending order, and print the result.\n",
        "import random\n",
        "numbers = [random.randint(1, 100) for i in range(5)]\n",
        "numbers.sort()\n",
        "print(numbers)"
      ]
    },
    {
      "cell_type": "code",
      "execution_count": null,
      "metadata": {
        "id": "MDSzw5BgrmGa",
        "outputId": "41a571b9-39bf-45ff-f8e6-0070f46fe09e"
      },
      "outputs": [
        {
          "name": "stdout",
          "output_type": "stream",
          "text": [
            "cherry\n"
          ]
        }
      ],
      "source": [
        "# 28.  Write a code to create a list with strings and print the element at the third index.\n",
        "strings = ['apple', 'banana', 'cherry', 'date']\n",
        "print(strings[2])"
      ]
    },
    {
      "cell_type": "code",
      "execution_count": null,
      "metadata": {
        "id": "DIOKXMDqrmGa",
        "outputId": "ceb3e455-aecf-4270-c03a-3f661fce011a"
      },
      "outputs": [
        {
          "name": "stdout",
          "output_type": "stream",
          "text": [
            "{'Name': 'Shanu', 'Age': 22, 'City': 'New Delhi', 'Country': 'India'}\n"
          ]
        }
      ],
      "source": [
        "# 29.  Write a code to combine two dictionaries into one and print the result.\n",
        "dictionary1 = {\"Name\": \"Shanu\", \"Age\": 22}\n",
        "dictionary2 = {\"City\": \"New Delhi\", \"Country\": \"India\"}\n",
        "dictionary1.update(dictionary2)\n",
        "print(dictionary1)"
      ]
    },
    {
      "cell_type": "code",
      "execution_count": null,
      "metadata": {
        "id": "_FLJTiMUrmGb",
        "outputId": "e21f9874-fd5c-4d51-d07b-17de139dd986"
      },
      "outputs": [
        {
          "name": "stdout",
          "output_type": "stream",
          "text": [
            "{'banana', 'apple', 'cherry'}\n"
          ]
        }
      ],
      "source": [
        "# 30. Write a code to convert a list of strings into a set.\n",
        "string = ['apple', 'banana', 'cherry']\n",
        "string_set = set(string)\n",
        "print(string_set)"
      ]
    }
  ],
  "metadata": {
    "colab": {
      "provenance": []
    },
    "kernelspec": {
      "display_name": "Python 3",
      "language": "python",
      "name": "python3"
    },
    "language_info": {
      "codemirror_mode": {
        "name": "ipython",
        "version": 3
      },
      "file_extension": ".py",
      "mimetype": "text/x-python",
      "name": "python",
      "nbconvert_exporter": "python",
      "pygments_lexer": "ipython3",
      "version": "3.11.9"
    }
  },
  "nbformat": 4,
  "nbformat_minor": 0
}
